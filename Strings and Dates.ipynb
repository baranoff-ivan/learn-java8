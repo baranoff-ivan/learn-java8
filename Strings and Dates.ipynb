{
 "cells": [
  {
   "cell_type": "markdown",
   "metadata": {},
   "source": [
    "# Date and Time"
   ]
  },
  {
   "cell_type": "markdown",
   "metadata": {},
   "source": [
    "Java classes for working with date and time:\n",
    "* `LocalDate` - just a date without time and timezone (TZ);\n",
    "* `LocalTime` - time without date and TZ;\n",
    "* `LocalDateTime` - date and time without TZ;\n",
    "* `ZonedDateTime` - date,time and TZ."
   ]
  },
  {
   "cell_type": "markdown",
   "metadata": {},
   "source": [
    "Each of this classes has static factory method `now` which returns current date and time."
   ]
  },
  {
   "cell_type": "markdown",
   "metadata": {},
   "source": [
    "Each of this classes also has different variations of static factory method `of` which take a set of arguments for constracting object."
   ]
  },
  {
   "cell_type": "markdown",
   "metadata": {},
   "source": [
    "* **LocalDate**:\n",
    "```java\n",
    "public static LocalDate of(int year, int month, int dayOfMonth)\n",
    "public static LocalDate of(int year, Month month, int dayOfMonth)\n",
    "```\n",
    "`Month` is an enum.  \n",
    "Months and days of week is counted from 1 (not from 0).  "
   ]
  },
  {
   "cell_type": "markdown",
   "metadata": {},
   "source": [
    "* **LocalTime**\n",
    "```java\n",
    "public static LocalTime of(int hour, int minute)\n",
    "public static LocalTime of(int hour, int minute, int seconds)\n",
    "public static LocalTime of(int hour, int minute, int seconds, int nanos)\n",
    "```"
   ]
  },
  {
   "cell_type": "markdown",
   "metadata": {},
   "source": [
    "* **LocalDateTime**\n",
    "```java\n",
    "public static LocalDateTime of(int year, int month, int dayOfMonth, int hour, int minute)\n",
    "public static LocalDateTime of(int year, int month, int dayOfMonth, int hour, int minute, int seconds)\n",
    "public static LocalDateTime of(int year, int month, int dayOfMonth, int hour, int minute, int seconds, int nanos)\n",
    "public static LocalDateTime of(int year, Month month, int dayOfMonth, int hour, int minute)\n",
    "public static LocalDateTime of(int year, Month month, int dayOfMonth, int hour, int minute, int seconds)\n",
    "public static LocalDateTime of(int year, Month month, int dayOfMonth, int hour, int minute, int seconds, int nanos)\n",
    "public static LocalDateTime of(LocalDate date, LocalTime time)\n",
    "```"
   ]
  },
  {
   "cell_type": "markdown",
   "metadata": {},
   "source": [
    "* **ZonedDateTime**"
   ]
  },
  {
   "cell_type": "code",
   "execution_count": 7,
   "metadata": {},
   "outputs": [
    {
     "name": "stdout",
     "output_type": "stream",
     "text": [
      "2017-11-12T18:45:34.000000200+03:00[Europe/Moscow]\n",
      "2016-02-03T15:25+03:00[Europe/Moscow]\n",
      "2016-05-23T13:15+03:00[Europe/Moscow]\n"
     ]
    },
    {
     "data": {
      "text/plain": [
       "null"
      ]
     },
     "execution_count": 7,
     "metadata": {},
     "output_type": "execute_result"
    }
   ],
   "source": [
    "import java.time.*;\n",
    "\n",
    "ZoneId zone = ZoneId.of(\"Europe/Moscow\");\n",
    "ZonedDateTime time1 = ZonedDateTime.of(2017, 11, 12, 18, 45, 34, 200, zone);\n",
    "System.out.println(time1);\n",
    "ZonedDateTime time2 = ZonedDateTime.of(LocalDate.of(2016, 2, 3), LocalTime.of(15, 25), zone);\n",
    "System.out.println(time2);\n",
    "ZonedDateTime time3 = ZonedDateTime.of(LocalDateTime.of(2016, 5, 23, 13, 15), zone);\n",
    "System.out.println(time3);"
   ]
  },
  {
   "cell_type": "markdown",
   "metadata": {},
   "source": [
    "**NEED TO KNOW** - All of new date and time classes has only private constructors to force usage of static factory methods."
   ]
  },
  {
   "cell_type": "markdown",
   "metadata": {},
   "source": [
    "## Operations with Date and Time"
   ]
  },
  {
   "cell_type": "markdown",
   "metadata": {},
   "source": [
    "All of the new date and time objects are **immutable**. The result of manipulation shoud be assigned to object reference."
   ]
  },
  {
   "cell_type": "markdown",
   "metadata": {},
   "source": [
    "For addition and subtraction `plus<Period>` and `minus<Period>` methods are used, where `<Period>` is `Years`, `Months`, `Days`, `Hours`, etc."
   ]
  },
  {
   "cell_type": "code",
   "execution_count": 9,
   "metadata": {},
   "outputs": [
    {
     "data": {
      "text/plain": [
       "2017-11-11T23:56:01.151"
      ]
     },
     "execution_count": 9,
     "metadata": {},
     "output_type": "execute_result"
    }
   ],
   "source": [
    "import java.time.*;\n",
    "\n",
    "LocalDateTime dateTime = LocalDateTime.now().\n",
    "    minusDays(10).\n",
    "    plusHours(3).\n",
    "    plusMinutes(10);\n",
    "\n",
    "return dateTime;"
   ]
  },
  {
   "cell_type": "markdown",
   "metadata": {},
   "source": [
    "`<Period>` of `Days`, `Months` and `Years` not applicable to `LocalTime` and `<Period>` of `Hours`, `Minutes` and `Seconds` not applicable to `LocalDate`."
   ]
  },
  {
   "cell_type": "markdown",
   "metadata": {},
   "source": [
    "## Period\n",
    "\n",
    "`Period` class represents interval between dates:"
   ]
  },
  {
   "cell_type": "code",
   "execution_count": 2,
   "metadata": {},
   "outputs": [
    {
     "data": {
      "text/plain": [
       "null"
      ]
     },
     "execution_count": 2,
     "metadata": {},
     "output_type": "execute_result"
    }
   ],
   "source": [
    "import java.time.*;\n",
    "\n",
    "Period annually = Period.ofYears(1);\n",
    "Period quarterly = Period.ofMonths(3);\n",
    "Period everyTwoWeeks = Period.ofWeeks(2);\n",
    "Period everyThreeDays = Period.ofDays(3);\n",
    "Period everyMonthAndThreeDays = Period.of(0, 1, 3);"
   ]
  },
  {
   "cell_type": "markdown",
   "metadata": {},
   "source": [
    "`Period` doesn't have fluent interface for combining different periods."
   ]
  },
  {
   "cell_type": "markdown",
   "metadata": {},
   "source": [
    "Usage of `Period`:"
   ]
  },
  {
   "cell_type": "code",
   "execution_count": 1,
   "metadata": {},
   "outputs": [
    {
     "name": "stdout",
     "output_type": "stream",
     "text": [
      "2016-12-15T18:20\n",
      "Period.of(2, 4, 6) as String: P2Y4M6D\n",
      "2019-04-21T18:20\n",
      "2014-08-09T18:20\n"
     ]
    },
    {
     "data": {
      "text/plain": [
       "null"
      ]
     },
     "execution_count": 1,
     "metadata": {},
     "output_type": "execute_result"
    }
   ],
   "source": [
    "import java.time.*;\n",
    "\n",
    "LocalDateTime dateTime1 = LocalDateTime.of(LocalDate.of(2016, 12, 15),\n",
    "                                         LocalTime.of(18, 20));\n",
    "System.out.println(dateTime1);\n",
    "\n",
    "Period period = Period.of(2, 4, 6);\n",
    "System.out.printf(\"Period.of(2, 4, 6) as String: %s%n\", period);\n",
    "\n",
    "LocalDateTime dateTime2 = dateTime1.plus(period);\n",
    "System.out.println(dateTime2);\n",
    "\n",
    "LocalDateTime dateTime3 = dateTime1.minus(period);\n",
    "System.out.println(dateTime3);"
   ]
  },
  {
   "cell_type": "markdown",
   "metadata": {},
   "source": [
    "`Period` is only for dates. `UnsupportedTemporalTypeException` is thrown when add (subtract) `Period` objects to (from) `LocalTime`."
   ]
  },
  {
   "cell_type": "markdown",
   "metadata": {},
   "source": [
    "## Duration\n",
    "\n",
    "`Duration` class represents interval in time:"
   ]
  },
  {
   "cell_type": "code",
   "execution_count": 7,
   "metadata": {},
   "outputs": [
    {
     "name": "stdout",
     "output_type": "stream",
     "text": [
      "PT24H\n",
      "PT1H\n",
      "PT15M\n",
      "PT30S\n",
      "PT0.001S\n",
      "PT0.000000001S\n"
     ]
    },
    {
     "data": {
      "text/plain": [
       "null"
      ]
     },
     "execution_count": 7,
     "metadata": {},
     "output_type": "execute_result"
    }
   ],
   "source": [
    "import java.time.*;\n",
    "import java.util.stream.*;\n",
    "\n",
    "Duration daily = Duration.ofDays(1);\n",
    "Duration hourly = Duration.ofHours(1);\n",
    "Duration every15Minutes = Duration.ofMinutes(15);\n",
    "Duration everyHalfMinute = Duration.ofSeconds(30);\n",
    "Duration everyMilli = Duration.ofMillis(1);\n",
    "Duration everyNano = Duration.ofNanos(1);\n",
    "\n",
    "Stream.of(daily, \n",
    "          hourly, \n",
    "          every15Minutes, \n",
    "          everyHalfMinute, \n",
    "          everyMilli, \n",
    "          everyNano).\n",
    "    forEach(System.out::println);"
   ]
  },
  {
   "cell_type": "markdown",
   "metadata": {},
   "source": [
    "`Duration` also has `of` factory method which takes a `long` and `TemporalUnit`:"
   ]
  },
  {
   "cell_type": "code",
   "execution_count": 5,
   "metadata": {},
   "outputs": [
    {
     "name": "stdout",
     "output_type": "stream",
     "text": [
      "PT12H\n"
     ]
    },
    {
     "data": {
      "text/plain": [
       "null"
      ]
     },
     "execution_count": 5,
     "metadata": {},
     "output_type": "execute_result"
    }
   ],
   "source": [
    "import java.time.*;\n",
    "import java.time.temporal.ChronoUnit;\n",
    "\n",
    "Duration every12Hours = Duration.of(1, ChronoUnit.HALF_DAYS);\n",
    "\n",
    "System.out.println(every12Hours);"
   ]
  },
  {
   "cell_type": "markdown",
   "metadata": {},
   "source": [
    "With `ChronoUnit` it is easy to evaluate differencies in time:"
   ]
  },
  {
   "cell_type": "code",
   "execution_count": 9,
   "metadata": {},
   "outputs": [
    {
     "name": "stdout",
     "output_type": "stream",
     "text": [
      "63\n",
      "2\n"
     ]
    },
    {
     "data": {
      "text/plain": [
       "null"
      ]
     },
     "execution_count": 9,
     "metadata": {},
     "output_type": "execute_result"
    }
   ],
   "source": [
    "import java.time.*;\n",
    "import java.time.temporal.ChronoUnit;\n",
    "\n",
    "System.out.println(\n",
    "    ChronoUnit.DAYS.between(LocalDate.of(2016, 1, 1), \n",
    "                            LocalDate.of(2016, 3, 4))\n",
    ");\n",
    "System.out.println(\n",
    "    ChronoUnit.HOURS.between(LocalTime.of(11, 11), \n",
    "                            LocalTime.of(13, 14))\n",
    ");"
   ]
  },
  {
   "cell_type": "markdown",
   "metadata": {},
   "source": [
    "`Duration` usage is the same as for `Period`:"
   ]
  },
  {
   "cell_type": "code",
   "execution_count": 10,
   "metadata": {},
   "outputs": [
    {
     "name": "stdout",
     "output_type": "stream",
     "text": [
      "2016-12-15T18:20\n",
      "Duration.ofHours(18) as String: PT18H\n",
      "2016-12-16T12:20\n",
      "2016-12-15T00:20\n"
     ]
    },
    {
     "data": {
      "text/plain": [
       "null"
      ]
     },
     "execution_count": 10,
     "metadata": {},
     "output_type": "execute_result"
    }
   ],
   "source": [
    "import java.time.*;\n",
    "\n",
    "LocalDateTime dateTime1 = LocalDateTime.of(LocalDate.of(2016, 12, 15),\n",
    "                                         LocalTime.of(18, 20));\n",
    "System.out.println(dateTime1);\n",
    "\n",
    "Duration duration = Duration.ofHours(18);\n",
    "System.out.printf(\"Duration.ofHours(18) as String: %s%n\", duration);\n",
    "\n",
    "LocalDateTime dateTime2 = dateTime1.plus(duration);\n",
    "System.out.println(dateTime2);\n",
    "\n",
    "LocalDateTime dateTime3 = dateTime1.minus(duration);\n",
    "System.out.println(dateTime3);"
   ]
  },
  {
   "cell_type": "markdown",
   "metadata": {},
   "source": [
    "`Duration` is only for objects with time. `UnsupportedTemporalTypeException` is thrown when add (subtract) `Duration` objects to (from) `LocalDate`."
   ]
  },
  {
   "cell_type": "markdown",
   "metadata": {},
   "source": [
    "## Instant\n",
    "`Instant` represent a moment in time in the GMT. `ZonedDateTime` can be turned to `Instant`: "
   ]
  },
  {
   "cell_type": "code",
   "execution_count": 12,
   "metadata": {},
   "outputs": [
    {
     "name": "stdout",
     "output_type": "stream",
     "text": [
      "2016-02-03T15:25+03:00[Europe/Moscow]\n",
      "2016-02-03T12:25:00Z\n"
     ]
    },
    {
     "data": {
      "text/plain": [
       "null"
      ]
     },
     "execution_count": 12,
     "metadata": {},
     "output_type": "execute_result"
    }
   ],
   "source": [
    "import java.time.*;\n",
    "\n",
    "ZoneId zone = ZoneId.of(\"Europe/Moscow\");\n",
    "ZonedDateTime zonedDateTime = ZonedDateTime.of(LocalDate.of(2016, 2, 3), \n",
    "                                       LocalTime.of(15, 25), \n",
    "                                       zone);\n",
    "Instant instant = zonedDateTime.toInstant();\n",
    "\n",
    "System.out.println(zonedDateTime);\n",
    "System.out.println(instant);"
   ]
  },
  {
   "cell_type": "markdown",
   "metadata": {},
   "source": [
    "In the example above `ZonedDateTime` includes time zone, and `Instant` represent the same moment in time in GMT and doesn't include time zone.\n",
    "\n",
    "`LocalDateTime` can not be converted to `Instant`."
   ]
  },
  {
   "cell_type": "markdown",
   "metadata": {},
   "source": [
    "`Instant` also can be created from epoch seconds:"
   ]
  },
  {
   "cell_type": "code",
   "execution_count": 14,
   "metadata": {},
   "outputs": [
    {
     "data": {
      "text/plain": [
       "2001-09-09T01:46:40Z"
      ]
     },
     "execution_count": 14,
     "metadata": {},
     "output_type": "execute_result"
    }
   ],
   "source": [
    "import java.time.*;\n",
    "\n",
    "return Instant.ofEpochSecond(1_000_000_000);"
   ]
  },
  {
   "cell_type": "markdown",
   "metadata": {
    "collapsed": true
   },
   "source": [
    "It is possible to add `TimeUnit` of day or smaller to `Instant`:"
   ]
  },
  {
   "cell_type": "code",
   "execution_count": 3,
   "metadata": {},
   "outputs": [
    {
     "data": {
      "text/plain": [
       "2001-09-09T11:46:40Z"
      ]
     },
     "execution_count": 3,
     "metadata": {},
     "output_type": "execute_result"
    }
   ],
   "source": [
    "import java.time.*;\n",
    "import java.time.temporal.ChronoUnit;\n",
    "\n",
    "Instant billion = Instant.ofEpochSecond(1_000_000_000);\n",
    "return billion.plus(10, ChronoUnit.HOURS);"
   ]
  },
  {
   "cell_type": "markdown",
   "metadata": {
    "collapsed": true
   },
   "source": [
    "# String"
   ]
  },
  {
   "cell_type": "markdown",
   "metadata": {},
   "source": [
    "`String` class is `final` and its objects are immutable."
   ]
  },
  {
   "cell_type": "markdown",
   "metadata": {},
   "source": [
    "## Internationalization and Localization"
   ]
  },
  {
   "cell_type": "markdown",
   "metadata": {},
   "source": [
    "*Internatiolization* (*i18n*) means making adaptable program. It includes placing strings in property file and using `DateFormat` to properly format date based on user preferences.  \n",
    "*Localization* (*l10n*) means to support multiple locales. It includes translating strings to different languages and outputting dates and numbers in the correct format for each locale."
   ]
  },
  {
   "cell_type": "markdown",
   "metadata": {},
   "source": [
    "Getting default locale:"
   ]
  },
  {
   "cell_type": "code",
   "execution_count": 5,
   "metadata": {},
   "outputs": [
    {
     "data": {
      "text/plain": [
       "en_US"
      ]
     },
     "execution_count": 5,
     "metadata": {},
     "output_type": "execute_result"
    }
   ],
   "source": [
    "import java.util.*;\n",
    "\n",
    "Locale locale = Locale.getDefault();\n",
    "return locale;"
   ]
  },
  {
   "cell_type": "markdown",
   "metadata": {},
   "source": [
    "`Locale` is printed with lower case language code and upper case country code. Country code is optional."
   ]
  },
  {
   "cell_type": "markdown",
   "metadata": {},
   "source": [
    "It is possible to change default locale:"
   ]
  },
  {
   "cell_type": "code",
   "execution_count": 4,
   "metadata": {},
   "outputs": [
    {
     "data": {
      "text/plain": [
       "ru"
      ]
     },
     "execution_count": 4,
     "metadata": {},
     "output_type": "execute_result"
    }
   ],
   "source": [
    "import java.util.*;\n",
    "\n",
    "Locale.setDefault(new Locale(\"ru\"));\n",
    "return Locale.getDefault();"
   ]
  },
  {
   "cell_type": "markdown",
   "metadata": {},
   "source": [
    "`Locale` class provides constants for commonly used locales."
   ]
  },
  {
   "cell_type": "code",
   "execution_count": 9,
   "metadata": {},
   "outputs": [
    {
     "name": "stdout",
     "output_type": "stream",
     "text": [
      "fr_FR\n",
      "en_US\n"
     ]
    },
    {
     "data": {
      "text/plain": [
       "null"
      ]
     },
     "execution_count": 9,
     "metadata": {},
     "output_type": "execute_result"
    }
   ],
   "source": [
    "import java.util.*;\n",
    "\n",
    "System.out.println(Locale.FRANCE);\n",
    "System.out.println(Locale.US);"
   ]
  },
  {
   "cell_type": "markdown",
   "metadata": {},
   "source": [
    "`Locale` has inner `Builder` class for constructing instances:"
   ]
  },
  {
   "cell_type": "code",
   "execution_count": 3,
   "metadata": {},
   "outputs": [
    {
     "data": {
      "text/plain": [
       "en_US"
      ]
     },
     "execution_count": 3,
     "metadata": {},
     "output_type": "execute_result"
    }
   ],
   "source": [
    "import java.util.*;\n",
    "\n",
    "Locale locale = new Locale.Builder().\n",
    "    setRegion(\"US\").\n",
    "    setLanguage(\"en\").\n",
    "    build();\n",
    "return locale;"
   ]
  },
  {
   "cell_type": "markdown",
   "metadata": {},
   "source": [
    "# Resource Bundle\n",
    "Contains locale specific objects to be used by a program. It can be property file or a Java class."
   ]
  },
  {
   "cell_type": "markdown",
   "metadata": {},
   "source": [
    "`ResourceBundle.getBundle(String resourceName, Locale locale)` is used to get resource bundle for specific `locale`. It searches the most specific bundle but can get parameters from less specific bundles also. For example, we have files:  "
   ]
  },
  {
   "cell_type": "markdown",
   "metadata": {},
   "source": [
    "**settings_ru.properties**  \n",
    "greeting=Привет"
   ]
  },
  {
   "cell_type": "markdown",
   "metadata": {},
   "source": [
    "**settings_en.properties**  \n",
    "greeting=Hi  \n",
    "name=Man"
   ]
  },
  {
   "cell_type": "markdown",
   "metadata": {},
   "source": [
    "**settings.properties**  \n",
    "greeting=Hello  \n",
    "name=Anonimous  \n",
    "farewell=Goodbye"
   ]
  },
  {
   "cell_type": "markdown",
   "metadata": {},
   "source": [
    "If we call `ResourceBundle rb = ResourceBundle.getBundle(\"settings\", new Locale(\"ru\"))` then it returns a resource bundle with properties combined from:  \n",
    "- properties specific for passed locale (\"ru\"), \n",
    "- properties for default locale (\"en_US\"), \n",
    "- properties for language of default locale (\"en\"),\n",
    "- common default properties (no locale)"
   ]
  },
  {
   "cell_type": "markdown",
   "metadata": {},
   "source": [
    "In our example we will have:  \n",
    "rb.getString(\"greeting\") -> Привет  \n",
    "rb.getString(\"name\") -> Man  \n",
    "rb.getString(\"farewell\") -> Goodbye"
   ]
  },
  {
   "cell_type": "markdown",
   "metadata": {},
   "source": [
    "## Numbers \n",
    "For locale specific formatting of numbers `NumberFormat` class is used."
   ]
  },
  {
   "cell_type": "markdown",
   "metadata": {},
   "source": [
    "- General purpose formatter - `NumberFormat.getInstance()` and `NumberFormat.getInstance(Locale locale)` or `NumberFormat.getNumberInstance()` and `NumberFormat.getNumberInstance(Locale locale)`"
   ]
  }
 ],
 "metadata": {
  "kernelspec": {
   "display_name": "Java",
   "language": "java",
   "name": "java"
  },
  "language_info": {
   "codemirror_mode": "text/x-java",
   "file_extension": ".java",
   "mimetype": "",
   "name": "Java",
   "nbconverter_exporter": "",
   "version": "1.8.0_121"
  }
 },
 "nbformat": 4,
 "nbformat_minor": 2
}
