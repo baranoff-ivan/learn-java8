{
 "cells": [
  {
   "cell_type": "markdown",
   "metadata": {},
   "source": [
    "# Streams\n",
    "\n",
    "## Stream source"
   ]
  },
  {
   "cell_type": "code",
   "execution_count": 1,
   "metadata": {},
   "outputs": [
    {
     "data": {
      "text/plain": [
       "null"
      ]
     },
     "execution_count": 1,
     "metadata": {},
     "output_type": "execute_result"
    }
   ],
   "source": [
    "import java.util.stream.Stream;\n",
    "import java.util.Arrays;\n",
    "\n",
    "Stream<String> empty = Stream.empty();\n",
    "Stream<String> single = Stream.of(\"one\");\n",
    "Stream<String> fromArray = Stream.of(\"one\", \"two\", \"three\");\n",
    "Stream<Integer> fromList = Arrays.asList(1, 2, 3).stream();\n",
    "Stream<Double> randoms = Stream.generate(Math::random); // infinite\n",
    "Stream<Integer> oddNumbers = Stream.iterate(1, n -> n + 2); // infinite"
   ]
  },
  {
   "cell_type": "markdown",
   "metadata": {},
   "source": [
    "## Intermediate operations"
   ]
  },
  {
   "cell_type": "markdown",
   "metadata": {},
   "source": [
    "* Stream filtering\n",
    "```java\n",
    "Stream<T> filter(Predicate<? super T> predicate)\n",
    "```"
   ]
  },
  {
   "cell_type": "code",
   "execution_count": 23,
   "metadata": {},
   "outputs": [
    {
     "name": "stdout",
     "output_type": "stream",
     "text": [
      "dress\n"
     ]
    },
    {
     "data": {
      "text/plain": [
       "null"
      ]
     },
     "execution_count": 23,
     "metadata": {},
     "output_type": "execute_result"
    }
   ],
   "source": [
    "import java.util.stream.Stream;\n",
    "\n",
    "Stream<String> stream = Stream.of(\"jeans\", \"dress\", \"coat\", \"suit\");\n",
    "stream.filter(s -> s.startsWith(\"d\")).forEach(System.out::println);"
   ]
  },
  {
   "cell_type": "markdown",
   "metadata": {},
   "source": [
    "* Removing duplicates\n",
    "```java\n",
    "Stream<T> distinct()\n",
    "```"
   ]
  },
  {
   "cell_type": "code",
   "execution_count": 24,
   "metadata": {},
   "outputs": [
    {
     "name": "stdout",
     "output_type": "stream",
     "text": [
      "jeans\n",
      "dress\n"
     ]
    },
    {
     "data": {
      "text/plain": [
       "null"
      ]
     },
     "execution_count": 24,
     "metadata": {},
     "output_type": "execute_result"
    }
   ],
   "source": [
    "import java.util.stream.Stream;\n",
    "\n",
    "Stream<String> stream = Stream.of(\"jeans\", \"dress\", \"dress\", \"jeans\");\n",
    "stream.distinct().forEach(System.out::println);"
   ]
  },
  {
   "cell_type": "markdown",
   "metadata": {},
   "source": [
    "* Limit and skip\n",
    "```java\n",
    "Stream<T> limit(int maxSize)\n",
    "Stream<T> skip(int n)\n",
    "```"
   ]
  },
  {
   "cell_type": "code",
   "execution_count": 26,
   "metadata": {
    "scrolled": true
   },
   "outputs": [
    {
     "name": "stdout",
     "output_type": "stream",
     "text": [
      "9\n",
      "11\n"
     ]
    },
    {
     "data": {
      "text/plain": [
       "null"
      ]
     },
     "execution_count": 26,
     "metadata": {},
     "output_type": "execute_result"
    }
   ],
   "source": [
    "import java.util.stream.Stream;\n",
    "\n",
    "Stream<Integer> stream = Stream.iterate(1, n -> n + 2);\n",
    "stream.skip(4).limit(2).forEach(System.out::println);"
   ]
  },
  {
   "cell_type": "markdown",
   "metadata": {},
   "source": [
    "* Data transformation by applying function to each element of stream\n",
    "```java\n",
    "<R> Stream<R> map(Function<? super T, ? extends R> mapper)\n",
    "```"
   ]
  },
  {
   "cell_type": "code",
   "execution_count": 28,
   "metadata": {},
   "outputs": [
    {
     "name": "stdout",
     "output_type": "stream",
     "text": [
      "5\n",
      "5\n",
      "4\n",
      "4\n"
     ]
    },
    {
     "data": {
      "text/plain": [
       "null"
      ]
     },
     "execution_count": 28,
     "metadata": {},
     "output_type": "execute_result"
    }
   ],
   "source": [
    "import java.util.stream.Stream;\n",
    "\n",
    "Stream<String> stream = Stream.of(\"jeans\", \"dress\", \"coat\", \"suit\");\n",
    "stream.map(String::length).forEach(System.out::println);"
   ]
  },
  {
   "cell_type": "markdown",
   "metadata": {},
   "source": [
    "* Data transformation producing stream from each element of the stream and then combining them\n",
    "```java\n",
    "<R> Stream<R> flatMap(Function<? super T, ? extends Stream<? extends R>> mapper)\n",
    "```"
   ]
  },
  {
   "cell_type": "code",
   "execution_count": 30,
   "metadata": {},
   "outputs": [
    {
     "name": "stdout",
     "output_type": "stream",
     "text": [
      "suit\n",
      "dress\n",
      "jeans\n"
     ]
    },
    {
     "data": {
      "text/plain": [
       "null"
      ]
     },
     "execution_count": 30,
     "metadata": {},
     "output_type": "execute_result"
    }
   ],
   "source": [
    "import java.util.stream.Stream;\n",
    "import java.util.*;\n",
    "\n",
    "List<String> zero = Arrays.asList();\n",
    "List<String> one = Arrays.asList(\"suit\");\n",
    "List<String> two = Arrays.asList(\"dress\", \"jeans\");\n",
    "Stream<List<String>> wearings = Stream.of(zero, one, two);\n",
    "\n",
    "wearings.flatMap(List::stream).forEach(System.out::println);"
   ]
  },
  {
   "cell_type": "markdown",
   "metadata": {},
   "source": [
    "* Sorting stream \n",
    "Requires all of the data, so it can't be used with infinite streams.\n",
    "```java\n",
    "Stream<T> sorted()\n",
    "Stream<T> sorted(Comparator<? super T> comparator)\n",
    "```"
   ]
  },
  {
   "cell_type": "code",
   "execution_count": 42,
   "metadata": {},
   "outputs": [
    {
     "name": "stdout",
     "output_type": "stream",
     "text": [
      "Sorted:\n",
      "coat\n",
      "dress\n",
      "jeans\n",
      "suit\n",
      "Reversed:\n",
      "suit\n",
      "jeans\n",
      "dress\n",
      "coat\n"
     ]
    },
    {
     "data": {
      "text/plain": [
       "null"
      ]
     },
     "execution_count": 42,
     "metadata": {},
     "output_type": "execute_result"
    }
   ],
   "source": [
    "import java.util.stream.Stream;\n",
    "import java.util.Comparator;\n",
    "\n",
    "System.out.println(\"Sorted:\");\n",
    "Stream<String> stream = Stream.of(\"jeans\", \"dress\", \"coat\", \"suit\");\n",
    "stream.sorted().forEach(System.out::println);\n",
    "\n",
    "System.out.println(\"Reversed:\");\n",
    "stream = Stream.of(\"jeans\", \"dress\", \"coat\", \"suit\");\n",
    "stream.sorted(Comparator.reverseOrder()).forEach(System.out::println);"
   ]
  },
  {
   "cell_type": "markdown",
   "metadata": {},
   "source": [
    "* Perform operation whithout changing a stream (usefull for debugging)\n",
    "```java\n",
    "Stream<T> peek(Consumer<? super T> action)\n",
    "```"
   ]
  },
  {
   "cell_type": "code",
   "execution_count": 51,
   "metadata": {},
   "outputs": [
    {
     "name": "stdout",
     "output_type": "stream",
     "text": [
      "dress\n"
     ]
    },
    {
     "data": {
      "text/plain": [
       "1"
      ]
     },
     "execution_count": 51,
     "metadata": {},
     "output_type": "execute_result"
    }
   ],
   "source": [
    "import java.util.stream.Stream;\n",
    "import java.util.Comparator;\n",
    "\n",
    "Stream<String> stream = Stream.of(\"jeans\", \"dress\", \"coat\", \"suit\");\n",
    "long count = stream.filter(s -> s.startsWith(\"d\")).\n",
    "    peek(System.out::println).count();\n",
    "\n",
    "return count;\n"
   ]
  },
  {
   "cell_type": "markdown",
   "metadata": {},
   "source": [
    "## Terminal operations\n",
    "No operations performed with stream until terminal operation is called."
   ]
  },
  {
   "cell_type": "markdown",
   "metadata": {},
   "source": [
    "* Count elements of stream.\n",
    "```java\n",
    "long count()\n",
    "```"
   ]
  },
  {
   "cell_type": "code",
   "execution_count": 2,
   "metadata": {},
   "outputs": [
    {
     "data": {
      "text/plain": [
       "6"
      ]
     },
     "execution_count": 2,
     "metadata": {},
     "output_type": "execute_result"
    }
   ],
   "source": [
    "import java.util.stream.Stream;\n",
    "\n",
    "Stream<Integer> ints = Stream.of(1,3,4,5,6,7);\n",
    "return ints.count();"
   ]
  },
  {
   "cell_type": "markdown",
   "metadata": {},
   "source": [
    "* Find min and max in stream.\n",
    "```java\n",
    "Optional<T> min(<? super T> comparator)\n",
    "Optional<T> max(<? super T> comparator)\n",
    "```"
   ]
  },
  {
   "cell_type": "code",
   "execution_count": 3,
   "metadata": {},
   "outputs": [
    {
     "data": {
      "text/plain": [
       "Optional[coat]"
      ]
     },
     "execution_count": 3,
     "metadata": {},
     "output_type": "execute_result"
    }
   ],
   "source": [
    "import java.util.stream.Stream;\n",
    "import java.util.Optional;\n",
    "\n",
    "Stream<String> s = Stream.of(\"jeans\", \"dress\", \"coat\");\n",
    "Optional<String> min = s.min((s1, s2) -> s1.length() - s2.length());\n",
    "return min;"
   ]
  },
  {
   "cell_type": "markdown",
   "metadata": {},
   "source": [
    "* Getting single element of stream.\n",
    "```java\n",
    "Optional<T> findAny()\n",
    "Optional<T> findFirst()\n",
    "```"
   ]
  },
  {
   "cell_type": "code",
   "execution_count": 4,
   "metadata": {},
   "outputs": [
    {
     "data": {
      "text/plain": [
       "Optional[tick]"
      ]
     },
     "execution_count": 4,
     "metadata": {},
     "output_type": "execute_result"
    }
   ],
   "source": [
    "import java.util.stream.Stream;\n",
    "\n",
    "return Stream.generate(() -> \"tick\").findAny();"
   ]
  },
  {
   "cell_type": "code",
   "execution_count": 5,
   "metadata": {},
   "outputs": [
    {
     "data": {
      "text/plain": [
       "Optional[23]"
      ]
     },
     "execution_count": 5,
     "metadata": {},
     "output_type": "execute_result"
    }
   ],
   "source": [
    "import java.util.stream.Stream;\n",
    "\n",
    "return Stream.of(23, 43, 56).findFirst();"
   ]
  },
  {
   "cell_type": "markdown",
   "metadata": {},
   "source": [
    "* Check elements of stream with predicate\n",
    "```java\n",
    "boolean anyMatch(Predicate<? super T> predicate)\n",
    "boolean allMatch(Predicate<? super T> predicate)\n",
    "boolean noneMatch(Predicate<? super T> predicate)\n",
    "```"
   ]
  },
  {
   "cell_type": "code",
   "execution_count": 6,
   "metadata": {},
   "outputs": [
    {
     "data": {
      "text/plain": [
       "false"
      ]
     },
     "execution_count": 6,
     "metadata": {},
     "output_type": "execute_result"
    }
   ],
   "source": [
    "import java.util.stream.Stream;\n",
    "import java.util.function.Predicate;\n",
    "\n",
    "Stream<String> infinite = Stream.generate(() -> \"chimp\");\n",
    "Predicate<String> p = s -> Character.isLetter(s.charAt(0));\n",
    "return infinite.noneMatch(p);"
   ]
  },
  {
   "cell_type": "markdown",
   "metadata": {},
   "source": [
    "* Looping through stream elements\n",
    "```java\n",
    "void forEach(Consumer<? super T> action)\n",
    "```"
   ]
  },
  {
   "cell_type": "code",
   "execution_count": 7,
   "metadata": {},
   "outputs": [
    {
     "name": "stdout",
     "output_type": "stream",
     "text": [
      "red\n",
      "orange\n",
      "yellow\n",
      "green\n",
      "blue\n",
      "violet\n"
     ]
    },
    {
     "data": {
      "text/plain": [
       "null"
      ]
     },
     "execution_count": 7,
     "metadata": {},
     "output_type": "execute_result"
    }
   ],
   "source": [
    "import java.util.stream.Stream;\n",
    "\n",
    "Stream.of(\"red\", \"orange\", \"yellow\", \"green\", \"blue\", \"violet\").\n",
    "        forEach(System.out::println);"
   ]
  },
  {
   "cell_type": "markdown",
   "metadata": {},
   "source": [
    "* Combine elements to single object \n",
    "```java\n",
    "T reduce(T identity, BinaryOperation<T> accumulator)\n",
    "Optional<T> reduce(BinaryOperation<T> accumulator)\n",
    "<U> U reduce(U identity, BiFunction<U, ? super T, U> accumulator, BinaryOperator<U> combiner) // for parallel streams\n",
    "```"
   ]
  },
  {
   "cell_type": "code",
   "execution_count": 8,
   "metadata": {},
   "outputs": [
    {
     "data": {
      "text/plain": [
       "wolf"
      ]
     },
     "execution_count": 8,
     "metadata": {},
     "output_type": "execute_result"
    }
   ],
   "source": [
    "import java.util.stream.Stream;\n",
    "\n",
    "return Stream.of(\"w\", \"o\", \"l\", \"f\").reduce(\"\", (s, c) -> s + c);\n"
   ]
  },
  {
   "cell_type": "code",
   "execution_count": 9,
   "metadata": {},
   "outputs": [
    {
     "data": {
      "text/plain": [
       "Optional[48]"
      ]
     },
     "execution_count": 9,
     "metadata": {},
     "output_type": "execute_result"
    }
   ],
   "source": [
    "import java.util.stream.Stream;\n",
    "\n",
    "return Stream.of(2, 4, 6).reduce((a, b) -> a * b);"
   ]
  },
  {
   "cell_type": "code",
   "execution_count": 10,
   "metadata": {},
   "outputs": [
    {
     "data": {
      "text/plain": [
       "48"
      ]
     },
     "execution_count": 10,
     "metadata": {},
     "output_type": "execute_result"
    }
   ],
   "source": [
    "import java.util.stream.Stream;\n",
    "import java.util.function.BinaryOperator;\n",
    "\n",
    "BinaryOperator<Integer> op = (a, b) -> a * b;\n",
    "return Stream.of(2, 4, 6).reduce(1, op, op);"
   ]
  },
  {
   "cell_type": "markdown",
   "metadata": {},
   "source": [
    "* *Mutable reduction* with collect. Uses the same mutable object while accumulating.\n",
    "```java\n",
    "<R> R collect(Supplier<R> supplier, BiConsumer<R, ? super T> accumulator, BiConsumer<R, R> combiner)\n",
    "<R, A> R collect(Collector<? super T, A, R> collector)\n",
    "```"
   ]
  },
  {
   "cell_type": "code",
   "execution_count": 13,
   "metadata": {},
   "outputs": [
    {
     "data": {
      "text/plain": [
       "Wolf"
      ]
     },
     "execution_count": 13,
     "metadata": {},
     "output_type": "execute_result"
    }
   ],
   "source": [
    "import java.util.stream.Stream;\n",
    "\n",
    "Stream<String> stream = Stream.of(\"W\", \"o\", \"l\", \"f\");\n",
    "StringBuilder word = stream.collect(StringBuilder::new, \n",
    "                                    StringBuilder::append, \n",
    "                                    StringBuilder::append);\n",
    "return word.toString();"
   ]
  },
  {
   "cell_type": "markdown",
   "metadata": {},
   "source": [
    "Example below shows `collect` for parallel streams. 3rd argument is a combiner which adds all of the elements of one TreeSet to another merging results of parallel operations."
   ]
  },
  {
   "cell_type": "code",
   "execution_count": 17,
   "metadata": {},
   "outputs": [
    {
     "data": {
      "text/plain": [
       "[f, l, o, w]"
      ]
     },
     "execution_count": 17,
     "metadata": {},
     "output_type": "execute_result"
    }
   ],
   "source": [
    "import java.util.stream.Stream;\n",
    "import java.util.TreeSet;\n",
    "\n",
    "Stream<String> stream = Stream.of(\"w\", \"o\", \"l\", \"f\");\n",
    "TreeSet<String> set = stream.collect(TreeSet::new, \n",
    "                                    TreeSet::add, \n",
    "                                    TreeSet::addAll);\n",
    "return set.toString();"
   ]
  },
  {
   "cell_type": "markdown",
   "metadata": {},
   "source": [
    "Examples below shows the usage of builtin Java collectors."
   ]
  },
  {
   "cell_type": "code",
   "execution_count": 20,
   "metadata": {},
   "outputs": [
    {
     "data": {
      "text/plain": [
       "[f, l, o, w]"
      ]
     },
     "execution_count": 20,
     "metadata": {},
     "output_type": "execute_result"
    }
   ],
   "source": [
    "import java.util.stream.*;\n",
    "import java.util.TreeSet;\n",
    "\n",
    "Stream<String> stream = Stream.of(\"w\", \"o\", \"l\", \"f\");\n",
    "TreeSet<String> set = stream.collect(\n",
    "    Collectors.toCollection(TreeSet::new));\n",
    "return set.toString();"
   ]
  },
  {
   "cell_type": "code",
   "execution_count": 22,
   "metadata": {},
   "outputs": [
    {
     "data": {
      "text/plain": [
       "[f, w, l, o]"
      ]
     },
     "execution_count": 22,
     "metadata": {},
     "output_type": "execute_result"
    }
   ],
   "source": [
    "import java.util.stream.*;\n",
    "import java.util.Set;\n",
    "\n",
    "Stream<String> stream = Stream.of(\"w\", \"o\", \"l\", \"f\");\n",
    "Set<String> set = stream.collect(Collectors.toSet());\n",
    "return set.toString();"
   ]
  },
  {
   "cell_type": "markdown",
   "metadata": {},
   "source": [
    "## Primitive Stream sources"
   ]
  },
  {
   "cell_type": "markdown",
   "metadata": {},
   "source": [
    "Three types of primitive streams:\n",
    "`IntStream` - `int`, `short`, `byte`, `char`\n",
    "`LongStream` - `long`\n",
    "`DoubleStream` - `double`, `float`\n",
    "These classes also have `empty`, `of`, `generate` and `iterate` methods just like class `Stream`.\n",
    "`IntStream` also has `range` and `rangeClosed` methods."
   ]
  },
  {
   "cell_type": "code",
   "execution_count": 1,
   "metadata": {},
   "outputs": [
    {
     "name": "stdout",
     "output_type": "stream",
     "text": [
      "1\n",
      "2\n",
      "3\n",
      "4\n",
      "5\n"
     ]
    },
    {
     "data": {
      "text/plain": [
       "null"
      ]
     },
     "execution_count": 1,
     "metadata": {},
     "output_type": "execute_result"
    }
   ],
   "source": [
    "import java.util.stream.IntStream;\n",
    "\n",
    "IntStream.range(1, 6).forEach(System.out::println);"
   ]
  },
  {
   "cell_type": "code",
   "execution_count": 2,
   "metadata": {},
   "outputs": [
    {
     "name": "stdout",
     "output_type": "stream",
     "text": [
      "1\n",
      "2\n",
      "3\n",
      "4\n",
      "5\n"
     ]
    },
    {
     "data": {
      "text/plain": [
       "null"
      ]
     },
     "execution_count": 2,
     "metadata": {},
     "output_type": "execute_result"
    }
   ],
   "source": [
    "import java.util.stream.IntStream;\n",
    "\n",
    "IntStream.rangeClosed(1, 5).forEach(System.out::println);"
   ]
  },
  {
   "cell_type": "markdown",
   "metadata": {},
   "source": [
    "Class `Stream` has methods to convert to each of the primitive streams - `mapToInt`, `mapToLong` and `mapToDouble`.\n",
    "\n",
    "Each of the classes for primitive streams have `mapToObj` method to convert to `Stream` and `mapToInt`, `mapToLong` and `mapToDouble` to convert to other primitive stream type. Except that `IntStream` (`LongStream`, `DoubleStream`) has `map` method instead of `mapToInt` (`mapToLong`, `mapToDouble`). \n",
    "\n",
    "For each of conversions corresponding function is used (for `<Type>` in (`Int`, `Long`, `Double`)):\n",
    "`To<Type>Function` - to convert from `Stream` to `<Type>Stream`,  \n",
    "`<Type>Function` - to convert from `<Type>Stream` to `Stream`,  \n",
    "`<SourceType>To<TargetType>Function` - to convert from `<SourceType>Stream` to `<TargetType>Stream`,  \n",
    "and `<Type>UnaryOperator` to perform operations without changing type of stream."
   ]
  },
  {
   "cell_type": "code",
   "execution_count": 5,
   "metadata": {},
   "outputs": [
    {
     "name": "stdout",
     "output_type": "stream",
     "text": [
      "3\n",
      "6\n",
      "6\n",
      "5\n",
      "4\n",
      "6\n"
     ]
    },
    {
     "data": {
      "text/plain": [
       "null"
      ]
     },
     "execution_count": 5,
     "metadata": {},
     "output_type": "execute_result"
    }
   ],
   "source": [
    "import java.util.stream.*;\n",
    "import java.util.function.*;\n",
    "\n",
    "Stream<String> colors = Stream.of(\"red\", \"orange\", \"yellow\", \"green\", \"blue\", \"violet\");\n",
    "ToIntFunction<String> mapper = String::length;\n",
    "colors.mapToInt(mapper).forEach(System.out::println);"
   ]
  },
  {
   "cell_type": "markdown",
   "metadata": {},
   "source": [
    "## Optional with Primitive Streams"
   ]
  },
  {
   "cell_type": "markdown",
   "metadata": {},
   "source": [
    "Class `Optional` also has its own versions for primitives:  \n",
    "`OptionalInt` - with method `getAsInt`,  \n",
    "`OptionalLong` - with method `getAsLong`,  \n",
    "`OptionalDouble` - with method `getAsDouble`."
   ]
  },
  {
   "cell_type": "code",
   "execution_count": 8,
   "metadata": {},
   "outputs": [
    {
     "name": "stdout",
     "output_type": "stream",
     "text": [
      "4\n",
      "7.0\n"
     ]
    },
    {
     "data": {
      "text/plain": [
       "null"
      ]
     },
     "execution_count": 8,
     "metadata": {},
     "output_type": "execute_result"
    }
   ],
   "source": [
    "import java.util.stream.*;\n",
    "\n",
    "LongStream.of(4, 7, 10).min().ifPresent(System.out::println);\n",
    "LongStream.of(4, 7, 10).average().ifPresent(System.out::println);"
   ]
  },
  {
   "cell_type": "markdown",
   "metadata": {},
   "source": [
    "## Summary Statistics"
   ]
  },
  {
   "cell_type": "code",
   "execution_count": 13,
   "metadata": {},
   "outputs": [
    {
     "data": {
      "text/plain": [
       "10"
      ]
     },
     "execution_count": 13,
     "metadata": {},
     "output_type": "execute_result"
    }
   ],
   "source": [
    "import java.util.stream.*;\n",
    "import java.util.*;\n",
    "\n",
    "IntSummaryStatistics stats = IntStream.of(1, 4, 6, 11).summaryStatistics();\n",
    "return stats.getMax() - stats.getMin();"
   ]
  },
  {
   "cell_type": "markdown",
   "metadata": {},
   "source": [
    "## Functional Inerfaces for Primitives"
   ]
  },
  {
   "cell_type": "markdown",
   "metadata": {},
   "source": [
    "### Supplier\n",
    "* `BooleanSupplier` - `boolean getAsBoolean()`\n",
    "* `IntSupplier` - `int getAsInt()`\n",
    "* `LongSupplier` - `long getAsLong()`\n",
    "* `DoubleSupplier` - `double getAsDouble()`\n",
    "\n",
    "### Consumer\n",
    "* `IntConsumer` - `void accept(int i)`\n",
    "* `LongConsumer` - `void accept(long l)`\n",
    "* `DoubleConsumer` - `void accept(double d)`  \n",
    "\n",
    "### BiConsumer analogs\n",
    "* `ObjIntConsumer<T>` - `void accept(T t, int i)`\n",
    "* `ObjLongConsumer<T>` - `void accept(T t, long l)`\n",
    "* `ObjDoubleConsumer<T>` - `void accept(T t, double d)`\n",
    "\n",
    "### Predicate\n",
    "* `IntPredicate` - `boolean test(int i)`\n",
    "* `LongPredicate` - `boolean test(long l)`\n",
    "* `DoublePredicate` - `boolean test(double d)`\n",
    "\n",
    "### Function\n",
    "* `IntFunction<R>` - `R apply(int i)`\n",
    "* `LongFunction<R>` - `R apply(long l)`\n",
    "* `DoubleFunction<R>` - `R apply(double d)`\n",
    "* `ToIntFunction<T>` - `int applyAsInt(T t)`\n",
    "* `ToLongFunction<T>` - `long applyAsLong(T t)`\n",
    "* `ToDoubleFunction<T>` - `double applyAsDouble(T t)`\n",
    "* `IntToLongFunction` - `long applyAsLong(int i)`\n",
    "* `IntToDoubleFunction` - `double applyAsDouble(int i)`\n",
    "* `LongToIntFunction` - `int applyAsInt(long l)`\n",
    "* `LongToDoubleFunction` - `double applyAsDouble(long l)`\n",
    "* `DoubleToIntFunction` - `int applyAsInt(double d)`\n",
    "* `DoubleToLongFunction` - `long applyAsLong(double d)`\n",
    "\n",
    "### BiFunction analogs\n",
    "* `ToIntBiFunction<T, U>` - `int applyAsInt(T t, U u)`\n",
    "* `ToLongBiFunction<T, U>` - `long applyAsLong(T t, U u)`\n",
    "* `ToDoubleBiFunction<T, U>` - `double applyAsDouble(T t, U u)`\n",
    "\n",
    "### UnaryOperator\n",
    "* `IntUnaryOperator` - `int applyAsInt(int i)`\n",
    "* `LongUnaryOperator` - `long applyAsLong(long l)`\n",
    "* `DoubleUnaryOperator` - `double applyAsDouble(double d)`\n",
    "\n",
    "### BinaryOperator\n",
    "* `IntBinaryOperator` - `int applyAsInt(int i1, int i2)`\n",
    "* `LongBinaryOperator` - `long applyAsLong(long l1, long l2)`\n",
    "* `DoubleBinaryOperator` - `double applyAsDouble(double d1, double d2)`"
   ]
  },
  {
   "cell_type": "code",
   "execution_count": null,
   "metadata": {
    "collapsed": true
   },
   "outputs": [],
   "source": []
  }
 ],
 "metadata": {
  "celltoolbar": "Initialization Cell",
  "kernelspec": {
   "display_name": "Java",
   "language": "java",
   "name": "java"
  },
  "language_info": {
   "codemirror_mode": "text/x-java",
   "file_extension": ".java",
   "mimetype": "",
   "name": "Java",
   "nbconverter_exporter": "",
   "version": "1.8.0_121"
  },
  "widgets": {
   "application/vnd.jupyter.widget-state+json": {
    "state": {},
    "version_major": 2,
    "version_minor": 0
   }
  }
 },
 "nbformat": 4,
 "nbformat_minor": 2
}
