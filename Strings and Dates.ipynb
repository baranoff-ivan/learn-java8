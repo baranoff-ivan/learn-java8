{
 "cells": [
  {
   "cell_type": "markdown",
   "metadata": {},
   "source": [
    "# Date and Time"
   ]
  },
  {
   "cell_type": "markdown",
   "metadata": {},
   "source": [
    "Java classes for working with date and time:\n",
    "* `LocalDate` - just a date without time and timezone (TZ);\n",
    "* `LocalTime` - time without date and TZ;\n",
    "* `LocalDateTime` - date and time without TZ;\n",
    "* `ZonedDateTime` - date,time and TZ."
   ]
  },
  {
   "cell_type": "markdown",
   "metadata": {},
   "source": [
    "Each of this classes has static factory method `now` which returns current date and time."
   ]
  },
  {
   "cell_type": "markdown",
   "metadata": {},
   "source": [
    "Each of this classes also has different variations of static factory method `of` which take a set of arguments for constracting object."
   ]
  },
  {
   "cell_type": "markdown",
   "metadata": {},
   "source": [
    "* LocalDate:\n",
    "```java\n",
    "public static LocalDate of(int year, int month, int dayOfMonth)\n",
    "public static LocalDate of(int year, Month month, int dayOfMonth)\n",
    "```\n",
    "`Month` is an enum.  \n",
    "Months and days of week is counted from 1 (not from 0).\n",
    "* LocalTime\n",
    "```java\n",
    "public static LocalTime of(int hour, int minute)\n",
    "public static LocalTime of(int hour, int minute, int seconds)\n",
    "public static LocalTime of(int hour, int minute, int seconds, int nanos)\n",
    "```\n",
    "* LocalDateTime\n",
    "```java\n",
    "public static LocalDateTime of(int year, int month, int dayOfMonth, int hour, int minute)\n",
    "public static LocalDateTime of(int year, int month, int dayOfMonth, int hour, int minute, int seconds)\n",
    "public static LocalDateTime of(int year, int month, int dayOfMonth, int hour, int minute, int seconds, int nanos)\n",
    "public static LocalDateTime of(int year, Month month, int dayOfMonth, int hour, int minute)\n",
    "public static LocalDateTime of(int year, Month month, int dayOfMonth, int hour, int minute, int seconds)\n",
    "public static LocalDateTime of(int year, Month month, int dayOfMonth, int hour, int minute, int seconds, int nanos)\n",
    "public static LocalDateTime of(LocalDate date, LocalTime time)\n",
    "```"
   ]
  },
  {
   "cell_type": "markdown",
   "metadata": {},
   "source": [
    "* ZonedDateTime"
   ]
  },
  {
   "cell_type": "code",
   "execution_count": 7,
   "metadata": {},
   "outputs": [
    {
     "name": "stdout",
     "output_type": "stream",
     "text": [
      "2017-11-12T18:45:34.000000200+03:00[Europe/Moscow]\n",
      "2016-02-03T15:25+03:00[Europe/Moscow]\n",
      "2016-05-23T13:15+03:00[Europe/Moscow]\n"
     ]
    },
    {
     "data": {
      "text/plain": [
       "null"
      ]
     },
     "execution_count": 7,
     "metadata": {},
     "output_type": "execute_result"
    }
   ],
   "source": [
    "import java.time.*;\n",
    "\n",
    "ZoneId zone = ZoneId.of(\"Europe/Moscow\");\n",
    "ZonedDateTime time1 = ZonedDateTime.of(2017, 11, 12, 18, 45, 34, 200, zone);\n",
    "System.out.println(time1);\n",
    "ZonedDateTime time2 = ZonedDateTime.of(LocalDate.of(2016, 2, 3), LocalTime.of(15, 25), zone);\n",
    "System.out.println(time2);\n",
    "ZonedDateTime time3 = ZonedDateTime.of(LocalDateTime.of(2016, 5, 23, 13, 15), zone);\n",
    "System.out.println(time3);"
   ]
  },
  {
   "cell_type": "markdown",
   "metadata": {},
   "source": [
    "NEED TO KNOW - All of new date and time classes has only private constructors to force usage of static factory methods."
   ]
  },
  {
   "cell_type": "markdown",
   "metadata": {},
   "source": [
    "## Operations with Date and Time"
   ]
  },
  {
   "cell_type": "markdown",
   "metadata": {},
   "source": [
    "All of the new date and time objects are **immutable**. The result of manipulation shoud be assigned to object reference."
   ]
  },
  {
   "cell_type": "markdown",
   "metadata": {},
   "source": [
    "For addition and subtraction `plus<Period>` and `minus<Period>` methods are used, where `<Period>` is `Years`, `Months`, `Days`, `Hours`, etc."
   ]
  },
  {
   "cell_type": "code",
   "execution_count": 9,
   "metadata": {},
   "outputs": [
    {
     "data": {
      "text/plain": [
       "2017-11-11T23:56:01.151"
      ]
     },
     "execution_count": 9,
     "metadata": {},
     "output_type": "execute_result"
    }
   ],
   "source": [
    "import java.time.*;\n",
    "\n",
    "LocalDateTime dateTime = LocalDateTime.now().\n",
    "    minusDays(10).\n",
    "    plusHours(3).\n",
    "    plusMinutes(10);\n",
    "\n",
    "return dateTime;"
   ]
  },
  {
   "cell_type": "markdown",
   "metadata": {},
   "source": [
    "`<Period>` of `Days`, `Months` and `Years` not applicable to `LocalTime` and `<Period>` of `Hours`, `Minutes` and `Seconds` not applicable to `LocalDate`."
   ]
  }
 ],
 "metadata": {
  "kernelspec": {
   "display_name": "Java",
   "language": "java",
   "name": "java"
  },
  "language_info": {
   "codemirror_mode": "text/x-java",
   "file_extension": ".java",
   "mimetype": "",
   "name": "Java",
   "nbconverter_exporter": "",
   "version": "1.8.0_121"
  }
 },
 "nbformat": 4,
 "nbformat_minor": 2
}
